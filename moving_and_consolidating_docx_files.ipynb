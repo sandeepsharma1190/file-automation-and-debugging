{
 "cells": [
  {
   "cell_type": "code",
   "execution_count": null,
   "metadata": {},
   "outputs": [],
   "source": []
  },
  {
   "cell_type": "code",
   "execution_count": null,
   "metadata": {},
   "outputs": [],
   "source": [
    "filename read - - > amke the directory for the coomon parts of the filename. read the common string in all these names and make that the name\n",
    "\n",
    "then pool all assignments into one direc if assignment name is same then change nomnecalture like 1_1, then 1_2\n",
    "\n",
    "then read all these docx and write the contents in one single file single file should be file name and then the contents"
   ]
  },
  {
   "cell_type": "code",
   "execution_count": null,
   "metadata": {},
   "outputs": [],
   "source": [
    "import os\n",
    "import shutil  # shutil means standard utility\n",
    "import docx\n",
    "\n",
    "newpath = input('enter the path where files are stored -->     ')\n",
    "os.chdir(newpath)  #entering into host's computer directory\n",
    "#print('Control is inside this PARENT directory',os.getcwd())\n",
    "\n",
    "for nomenPri in os.listdir(): #iterating through each filename fetched out of List Directory\n",
    "       \n",
    "    if ('docx' in nomenPri) and (os.path.isfile(nomenPri) == True): ## only docx FILE is entertained. Folders and other extension will similar names will be avoided\n",
    "        print('traversing',nomenPri) \n",
    "        \n",
    "        doc = docx.Document(nomenPri)  # Creating word READER object.\n",
    "        data = \"\"\n",
    "        fullText = []\n",
    "        for para in doc.paragraphs:\n",
    "            fullText.append(para.text)  #appending all texts of all paragraphs into empty list\n",
    "            data = '\\n'.join(fullText)  #changing populated list into string adding NEWLINE between each paragraph\n",
    "            #this data string stream will be populated into folder consolidated docx which will be created below\n",
    "        \n",
    "        for eter in nomenPri: ## iterating through each character of the filename to find the digit. \n",
    "            if eter.isdigit() == True: #Digit once found it will be used to delimit the left hand side of the filename\n",
    "                folder_name = nomenPri.split(eter)[0]    ## creation of NAME of folder we want to create.split gives us a list,whose 0th position is being considered here    \n",
    "                suitable_path = newpath+\"\\\\\"+'_'+folder_name   ## creation of foldername path itself as subdirectory of path given by input \n",
    "                if os.path.isdir(suitable_path) == False:\n",
    "                    os.makedirs(suitable_path)    ## actual creation of subdirectory\n",
    "                os.chdir(suitable_path)  #movnig control into sudirectory so that we can create FOLDER SPECIFIC CONSOLIDATED.DOCX and also move the relevant files\n",
    "                \n",
    "                try:\n",
    "                    my_doc = docx.Document('consolidated_'+folder_name+'.docx') # try to open CONSOLIDATED.DOCX; \n",
    "                except:  #if not found create a blank new one and open it. Save it as CONSOLIDATED.DOCX\n",
    "                    my_doc = docx.Document()\n",
    "                    my_doc.save('consolidated_'+folder_name+'.docx')  \n",
    "                    \n",
    "                my_doc.add_paragraph('\\n\\n filename is '+nomenPri) ## inside CONSOLIDATED.DOCX writing FILENAME as Title Heading before pasting relevant data\n",
    "                my_doc.add_paragraph(data)\n",
    "                my_doc.save('consolidated_'+folder_name+'.docx')\n",
    "                \n",
    "                os.chdir(newpath) ## switching back to old path since the files we want to move are still in the original folder location which we had mentioned as input from user\n",
    "                shutil.move(nomenPri,suitable_path) #move file with filename nomenPri(each entrant of os.listdir) ---> move into the new folder location SUITABLE_PATH we created\n",
    "                print('Augmentation Done')\n",
    "                \n",
    "                break #once writing is done to consolidated docx and file is moved , then BREAK OUT OF LOOP since no more iteration is required\n",
    "            \n",
    "            else:\n",
    "                pass\n",
    "        else:\n",
    "            print('*neglected since {} doesnt have a digit to be split'.format(nomenPri))  \n",
    "          "
   ]
  },
  {
   "cell_type": "code",
   "execution_count": null,
   "metadata": {},
   "outputs": [],
   "source": []
  },
  {
   "cell_type": "code",
   "execution_count": null,
   "metadata": {},
   "outputs": [],
   "source": []
  },
  {
   "cell_type": "code",
   "execution_count": null,
   "metadata": {},
   "outputs": [],
   "source": []
  }
 ],
 "metadata": {
  "kernelspec": {
   "display_name": "Python 3",
   "language": "python",
   "name": "python3"
  },
  "language_info": {
   "codemirror_mode": {
    "name": "ipython",
    "version": 3
   },
   "file_extension": ".py",
   "mimetype": "text/x-python",
   "name": "python",
   "nbconvert_exporter": "python",
   "pygments_lexer": "ipython3",
   "version": "3.8.8"
  }
 },
 "nbformat": 4,
 "nbformat_minor": 4
}
